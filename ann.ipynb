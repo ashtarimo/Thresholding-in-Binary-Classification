{
 "cells": [
  {
   "cell_type": "code",
   "execution_count": 464,
   "metadata": {},
   "outputs": [
    {
     "data": {
      "text/html": [
       "        <script type=\"text/javascript\">\n",
       "        window.PlotlyConfig = {MathJaxConfig: 'local'};\n",
       "        if (window.MathJax) {MathJax.Hub.Config({SVG: {font: \"STIX-Web\"}});}\n",
       "        if (typeof require !== 'undefined') {\n",
       "        require.undef(\"plotly\");\n",
       "        requirejs.config({\n",
       "            paths: {\n",
       "                'plotly': ['https://cdn.plot.ly/plotly-latest.min']\n",
       "            }\n",
       "        });\n",
       "        require(['plotly'], function(Plotly) {\n",
       "            window._Plotly = Plotly;\n",
       "        });\n",
       "        }\n",
       "        </script>\n",
       "        "
      ]
     },
     "metadata": {},
     "output_type": "display_data"
    }
   ],
   "source": [
    "import numpy as np\n",
    "import pandas as pd\n",
    "import sklearn as sk\n",
    "import matplotlib.pyplot as plt\n",
    "import seaborn as sns\n",
    "import cufflinks as cf\n",
    "from scipy import stats\n",
    "\n",
    "from sklearn.model_selection import train_test_split\n",
    "from sklearn.preprocessing import StandardScaler\n",
    "from sklearn.linear_model import LinearRegression\n",
    "from sklearn.linear_model import LogisticRegression\n",
    "from sklearn.feature_selection import f_regression\n",
    "from sklearn import metrics\n",
    "from sklearn.metrics import classification_report\n",
    "from sklearn.metrics import confusion_matrix\n",
    "from sklearn.neighbors import KNeighborsClassifier\n",
    "from sklearn.datasets import make_classification\n",
    "from sklearn.tree import DecisionTreeClassifier\n",
    "from sklearn.ensemble import RandomForestClassifier\n",
    "from sklearn.svm import SVC\n",
    "from sklearn.model_selection import learning_curve, GridSearchCV\n",
    "from sklearn.model_selection import cross_val_score\n",
    "from sklearn.model_selection import RepeatedStratifiedKFold\n",
    "from sklearn.feature_selection import RFE\n",
    "from sklearn.pipeline import Pipeline\n",
    "from sklearn.metrics import roc_auc_score\n",
    "from sklearn.preprocessing import binarize\n",
    "\n",
    "import tensorflow as tf\n",
    "from tensorflow.keras.models import Sequential, load_model\n",
    "from tensorflow.keras.layers import Dense, Dropout\n",
    "from tensorflow.keras.callbacks import EarlyStopping\n",
    "\n",
    "pd.set_option('display.max_rows', None)\n",
    "pd.set_option('display.max_columns', None)\n",
    "pd.set_option('display.width', None)\n",
    "pd.set_option('display.max_colwidth', None)\n",
    "\n",
    "cf.go_offline()\n",
    "sns.set()"
   ]
  },
  {
   "cell_type": "code",
   "execution_count": 465,
   "metadata": {},
   "outputs": [
    {
     "data": {
      "text/html": [
       "<div>\n",
       "<style scoped>\n",
       "    .dataframe tbody tr th:only-of-type {\n",
       "        vertical-align: middle;\n",
       "    }\n",
       "\n",
       "    .dataframe tbody tr th {\n",
       "        vertical-align: top;\n",
       "    }\n",
       "\n",
       "    .dataframe thead th {\n",
       "        text-align: right;\n",
       "    }\n",
       "</style>\n",
       "<table border=\"1\" class=\"dataframe\">\n",
       "  <thead>\n",
       "    <tr style=\"text-align: right;\">\n",
       "      <th></th>\n",
       "      <th>id</th>\n",
       "      <th>diagnosis</th>\n",
       "      <th>radius_mean</th>\n",
       "      <th>texture_mean</th>\n",
       "      <th>perimeter_mean</th>\n",
       "      <th>area_mean</th>\n",
       "      <th>smoothness_mean</th>\n",
       "      <th>compactness_mean</th>\n",
       "      <th>concavity_mean</th>\n",
       "      <th>concave points_mean</th>\n",
       "      <th>symmetry_mean</th>\n",
       "      <th>fractal_dimension_mean</th>\n",
       "      <th>radius_se</th>\n",
       "      <th>texture_se</th>\n",
       "      <th>perimeter_se</th>\n",
       "      <th>area_se</th>\n",
       "      <th>smoothness_se</th>\n",
       "      <th>compactness_se</th>\n",
       "      <th>concavity_se</th>\n",
       "      <th>concave points_se</th>\n",
       "      <th>symmetry_se</th>\n",
       "      <th>fractal_dimension_se</th>\n",
       "      <th>radius_worst</th>\n",
       "      <th>texture_worst</th>\n",
       "      <th>perimeter_worst</th>\n",
       "      <th>area_worst</th>\n",
       "      <th>smoothness_worst</th>\n",
       "      <th>compactness_worst</th>\n",
       "      <th>concavity_worst</th>\n",
       "      <th>concave points_worst</th>\n",
       "      <th>symmetry_worst</th>\n",
       "      <th>fractal_dimension_worst</th>\n",
       "      <th>Unnamed: 32</th>\n",
       "    </tr>\n",
       "  </thead>\n",
       "  <tbody>\n",
       "    <tr>\n",
       "      <th>0</th>\n",
       "      <td>842302</td>\n",
       "      <td>M</td>\n",
       "      <td>17.99</td>\n",
       "      <td>10.38</td>\n",
       "      <td>122.80</td>\n",
       "      <td>1001.0</td>\n",
       "      <td>0.11840</td>\n",
       "      <td>0.27760</td>\n",
       "      <td>0.3001</td>\n",
       "      <td>0.14710</td>\n",
       "      <td>0.2419</td>\n",
       "      <td>0.07871</td>\n",
       "      <td>1.0950</td>\n",
       "      <td>0.9053</td>\n",
       "      <td>8.589</td>\n",
       "      <td>153.40</td>\n",
       "      <td>0.006399</td>\n",
       "      <td>0.04904</td>\n",
       "      <td>0.05373</td>\n",
       "      <td>0.01587</td>\n",
       "      <td>0.03003</td>\n",
       "      <td>0.006193</td>\n",
       "      <td>25.38</td>\n",
       "      <td>17.33</td>\n",
       "      <td>184.60</td>\n",
       "      <td>2019.0</td>\n",
       "      <td>0.1622</td>\n",
       "      <td>0.6656</td>\n",
       "      <td>0.7119</td>\n",
       "      <td>0.2654</td>\n",
       "      <td>0.4601</td>\n",
       "      <td>0.11890</td>\n",
       "      <td>NaN</td>\n",
       "    </tr>\n",
       "    <tr>\n",
       "      <th>1</th>\n",
       "      <td>842517</td>\n",
       "      <td>M</td>\n",
       "      <td>20.57</td>\n",
       "      <td>17.77</td>\n",
       "      <td>132.90</td>\n",
       "      <td>1326.0</td>\n",
       "      <td>0.08474</td>\n",
       "      <td>0.07864</td>\n",
       "      <td>0.0869</td>\n",
       "      <td>0.07017</td>\n",
       "      <td>0.1812</td>\n",
       "      <td>0.05667</td>\n",
       "      <td>0.5435</td>\n",
       "      <td>0.7339</td>\n",
       "      <td>3.398</td>\n",
       "      <td>74.08</td>\n",
       "      <td>0.005225</td>\n",
       "      <td>0.01308</td>\n",
       "      <td>0.01860</td>\n",
       "      <td>0.01340</td>\n",
       "      <td>0.01389</td>\n",
       "      <td>0.003532</td>\n",
       "      <td>24.99</td>\n",
       "      <td>23.41</td>\n",
       "      <td>158.80</td>\n",
       "      <td>1956.0</td>\n",
       "      <td>0.1238</td>\n",
       "      <td>0.1866</td>\n",
       "      <td>0.2416</td>\n",
       "      <td>0.1860</td>\n",
       "      <td>0.2750</td>\n",
       "      <td>0.08902</td>\n",
       "      <td>NaN</td>\n",
       "    </tr>\n",
       "    <tr>\n",
       "      <th>2</th>\n",
       "      <td>84300903</td>\n",
       "      <td>M</td>\n",
       "      <td>19.69</td>\n",
       "      <td>21.25</td>\n",
       "      <td>130.00</td>\n",
       "      <td>1203.0</td>\n",
       "      <td>0.10960</td>\n",
       "      <td>0.15990</td>\n",
       "      <td>0.1974</td>\n",
       "      <td>0.12790</td>\n",
       "      <td>0.2069</td>\n",
       "      <td>0.05999</td>\n",
       "      <td>0.7456</td>\n",
       "      <td>0.7869</td>\n",
       "      <td>4.585</td>\n",
       "      <td>94.03</td>\n",
       "      <td>0.006150</td>\n",
       "      <td>0.04006</td>\n",
       "      <td>0.03832</td>\n",
       "      <td>0.02058</td>\n",
       "      <td>0.02250</td>\n",
       "      <td>0.004571</td>\n",
       "      <td>23.57</td>\n",
       "      <td>25.53</td>\n",
       "      <td>152.50</td>\n",
       "      <td>1709.0</td>\n",
       "      <td>0.1444</td>\n",
       "      <td>0.4245</td>\n",
       "      <td>0.4504</td>\n",
       "      <td>0.2430</td>\n",
       "      <td>0.3613</td>\n",
       "      <td>0.08758</td>\n",
       "      <td>NaN</td>\n",
       "    </tr>\n",
       "    <tr>\n",
       "      <th>3</th>\n",
       "      <td>84348301</td>\n",
       "      <td>M</td>\n",
       "      <td>11.42</td>\n",
       "      <td>20.38</td>\n",
       "      <td>77.58</td>\n",
       "      <td>386.1</td>\n",
       "      <td>0.14250</td>\n",
       "      <td>0.28390</td>\n",
       "      <td>0.2414</td>\n",
       "      <td>0.10520</td>\n",
       "      <td>0.2597</td>\n",
       "      <td>0.09744</td>\n",
       "      <td>0.4956</td>\n",
       "      <td>1.1560</td>\n",
       "      <td>3.445</td>\n",
       "      <td>27.23</td>\n",
       "      <td>0.009110</td>\n",
       "      <td>0.07458</td>\n",
       "      <td>0.05661</td>\n",
       "      <td>0.01867</td>\n",
       "      <td>0.05963</td>\n",
       "      <td>0.009208</td>\n",
       "      <td>14.91</td>\n",
       "      <td>26.50</td>\n",
       "      <td>98.87</td>\n",
       "      <td>567.7</td>\n",
       "      <td>0.2098</td>\n",
       "      <td>0.8663</td>\n",
       "      <td>0.6869</td>\n",
       "      <td>0.2575</td>\n",
       "      <td>0.6638</td>\n",
       "      <td>0.17300</td>\n",
       "      <td>NaN</td>\n",
       "    </tr>\n",
       "    <tr>\n",
       "      <th>4</th>\n",
       "      <td>84358402</td>\n",
       "      <td>M</td>\n",
       "      <td>20.29</td>\n",
       "      <td>14.34</td>\n",
       "      <td>135.10</td>\n",
       "      <td>1297.0</td>\n",
       "      <td>0.10030</td>\n",
       "      <td>0.13280</td>\n",
       "      <td>0.1980</td>\n",
       "      <td>0.10430</td>\n",
       "      <td>0.1809</td>\n",
       "      <td>0.05883</td>\n",
       "      <td>0.7572</td>\n",
       "      <td>0.7813</td>\n",
       "      <td>5.438</td>\n",
       "      <td>94.44</td>\n",
       "      <td>0.011490</td>\n",
       "      <td>0.02461</td>\n",
       "      <td>0.05688</td>\n",
       "      <td>0.01885</td>\n",
       "      <td>0.01756</td>\n",
       "      <td>0.005115</td>\n",
       "      <td>22.54</td>\n",
       "      <td>16.67</td>\n",
       "      <td>152.20</td>\n",
       "      <td>1575.0</td>\n",
       "      <td>0.1374</td>\n",
       "      <td>0.2050</td>\n",
       "      <td>0.4000</td>\n",
       "      <td>0.1625</td>\n",
       "      <td>0.2364</td>\n",
       "      <td>0.07678</td>\n",
       "      <td>NaN</td>\n",
       "    </tr>\n",
       "  </tbody>\n",
       "</table>\n",
       "</div>"
      ],
      "text/plain": [
       "         id diagnosis  radius_mean  texture_mean  perimeter_mean  area_mean  \\\n",
       "0    842302         M        17.99         10.38          122.80     1001.0   \n",
       "1    842517         M        20.57         17.77          132.90     1326.0   \n",
       "2  84300903         M        19.69         21.25          130.00     1203.0   \n",
       "3  84348301         M        11.42         20.38           77.58      386.1   \n",
       "4  84358402         M        20.29         14.34          135.10     1297.0   \n",
       "\n",
       "   smoothness_mean  compactness_mean  concavity_mean  concave points_mean  \\\n",
       "0          0.11840           0.27760          0.3001              0.14710   \n",
       "1          0.08474           0.07864          0.0869              0.07017   \n",
       "2          0.10960           0.15990          0.1974              0.12790   \n",
       "3          0.14250           0.28390          0.2414              0.10520   \n",
       "4          0.10030           0.13280          0.1980              0.10430   \n",
       "\n",
       "   symmetry_mean  fractal_dimension_mean  radius_se  texture_se  perimeter_se  \\\n",
       "0         0.2419                 0.07871     1.0950      0.9053         8.589   \n",
       "1         0.1812                 0.05667     0.5435      0.7339         3.398   \n",
       "2         0.2069                 0.05999     0.7456      0.7869         4.585   \n",
       "3         0.2597                 0.09744     0.4956      1.1560         3.445   \n",
       "4         0.1809                 0.05883     0.7572      0.7813         5.438   \n",
       "\n",
       "   area_se  smoothness_se  compactness_se  concavity_se  concave points_se  \\\n",
       "0   153.40       0.006399         0.04904       0.05373            0.01587   \n",
       "1    74.08       0.005225         0.01308       0.01860            0.01340   \n",
       "2    94.03       0.006150         0.04006       0.03832            0.02058   \n",
       "3    27.23       0.009110         0.07458       0.05661            0.01867   \n",
       "4    94.44       0.011490         0.02461       0.05688            0.01885   \n",
       "\n",
       "   symmetry_se  fractal_dimension_se  radius_worst  texture_worst  \\\n",
       "0      0.03003              0.006193         25.38          17.33   \n",
       "1      0.01389              0.003532         24.99          23.41   \n",
       "2      0.02250              0.004571         23.57          25.53   \n",
       "3      0.05963              0.009208         14.91          26.50   \n",
       "4      0.01756              0.005115         22.54          16.67   \n",
       "\n",
       "   perimeter_worst  area_worst  smoothness_worst  compactness_worst  \\\n",
       "0           184.60      2019.0            0.1622             0.6656   \n",
       "1           158.80      1956.0            0.1238             0.1866   \n",
       "2           152.50      1709.0            0.1444             0.4245   \n",
       "3            98.87       567.7            0.2098             0.8663   \n",
       "4           152.20      1575.0            0.1374             0.2050   \n",
       "\n",
       "   concavity_worst  concave points_worst  symmetry_worst  \\\n",
       "0           0.7119                0.2654          0.4601   \n",
       "1           0.2416                0.1860          0.2750   \n",
       "2           0.4504                0.2430          0.3613   \n",
       "3           0.6869                0.2575          0.6638   \n",
       "4           0.4000                0.1625          0.2364   \n",
       "\n",
       "   fractal_dimension_worst  Unnamed: 32  \n",
       "0                  0.11890          NaN  \n",
       "1                  0.08902          NaN  \n",
       "2                  0.08758          NaN  \n",
       "3                  0.17300          NaN  \n",
       "4                  0.07678          NaN  "
      ]
     },
     "execution_count": 465,
     "metadata": {},
     "output_type": "execute_result"
    }
   ],
   "source": [
    "df = pd.read_csv('bcancer.csv')\n",
    "df.head()"
   ]
  },
  {
   "cell_type": "code",
   "execution_count": 466,
   "metadata": {},
   "outputs": [
    {
     "name": "stdout",
     "output_type": "stream",
     "text": [
      "<class 'pandas.core.frame.DataFrame'>\n",
      "RangeIndex: 569 entries, 0 to 568\n",
      "Data columns (total 33 columns):\n",
      " #   Column                   Non-Null Count  Dtype  \n",
      "---  ------                   --------------  -----  \n",
      " 0   id                       569 non-null    int64  \n",
      " 1   diagnosis                569 non-null    object \n",
      " 2   radius_mean              569 non-null    float64\n",
      " 3   texture_mean             569 non-null    float64\n",
      " 4   perimeter_mean           569 non-null    float64\n",
      " 5   area_mean                569 non-null    float64\n",
      " 6   smoothness_mean          569 non-null    float64\n",
      " 7   compactness_mean         569 non-null    float64\n",
      " 8   concavity_mean           569 non-null    float64\n",
      " 9   concave points_mean      569 non-null    float64\n",
      " 10  symmetry_mean            569 non-null    float64\n",
      " 11  fractal_dimension_mean   569 non-null    float64\n",
      " 12  radius_se                569 non-null    float64\n",
      " 13  texture_se               569 non-null    float64\n",
      " 14  perimeter_se             569 non-null    float64\n",
      " 15  area_se                  569 non-null    float64\n",
      " 16  smoothness_se            569 non-null    float64\n",
      " 17  compactness_se           569 non-null    float64\n",
      " 18  concavity_se             569 non-null    float64\n",
      " 19  concave points_se        569 non-null    float64\n",
      " 20  symmetry_se              569 non-null    float64\n",
      " 21  fractal_dimension_se     569 non-null    float64\n",
      " 22  radius_worst             569 non-null    float64\n",
      " 23  texture_worst            569 non-null    float64\n",
      " 24  perimeter_worst          569 non-null    float64\n",
      " 25  area_worst               569 non-null    float64\n",
      " 26  smoothness_worst         569 non-null    float64\n",
      " 27  compactness_worst        569 non-null    float64\n",
      " 28  concavity_worst          569 non-null    float64\n",
      " 29  concave points_worst     569 non-null    float64\n",
      " 30  symmetry_worst           569 non-null    float64\n",
      " 31  fractal_dimension_worst  569 non-null    float64\n",
      " 32  Unnamed: 32              0 non-null      float64\n",
      "dtypes: float64(31), int64(1), object(1)\n",
      "memory usage: 146.8+ KB\n"
     ]
    }
   ],
   "source": [
    "df.info()"
   ]
  },
  {
   "cell_type": "code",
   "execution_count": 467,
   "metadata": {},
   "outputs": [],
   "source": [
    "df.columns = df.columns.str.replace(' ', '_')"
   ]
  },
  {
   "cell_type": "markdown",
   "metadata": {},
   "source": [
    "# 0- Defining the label, and model target\n",
    "make a model to find cancer the best, model turns positive (1) if it is cancer"
   ]
  },
  {
   "cell_type": "code",
   "execution_count": 468,
   "metadata": {},
   "outputs": [
    {
     "data": {
      "text/plain": [
       "B    357\n",
       "M    212\n",
       "Name: diagnosis, dtype: int64"
      ]
     },
     "execution_count": 468,
     "metadata": {},
     "output_type": "execute_result"
    }
   ],
   "source": [
    "df['diagnosis'].value_counts()"
   ]
  },
  {
   "cell_type": "code",
   "execution_count": 469,
   "metadata": {},
   "outputs": [],
   "source": [
    "# note that positive (value 1, or Yes) has way less numbers"
   ]
  },
  {
   "cell_type": "code",
   "execution_count": 470,
   "metadata": {},
   "outputs": [
    {
     "data": {
      "text/html": [
       "<div>\n",
       "<style scoped>\n",
       "    .dataframe tbody tr th:only-of-type {\n",
       "        vertical-align: middle;\n",
       "    }\n",
       "\n",
       "    .dataframe tbody tr th {\n",
       "        vertical-align: top;\n",
       "    }\n",
       "\n",
       "    .dataframe thead th {\n",
       "        text-align: right;\n",
       "    }\n",
       "</style>\n",
       "<table border=\"1\" class=\"dataframe\">\n",
       "  <thead>\n",
       "    <tr style=\"text-align: right;\">\n",
       "      <th></th>\n",
       "      <th>id</th>\n",
       "      <th>radius_mean</th>\n",
       "      <th>texture_mean</th>\n",
       "      <th>perimeter_mean</th>\n",
       "      <th>area_mean</th>\n",
       "      <th>smoothness_mean</th>\n",
       "      <th>compactness_mean</th>\n",
       "      <th>concavity_mean</th>\n",
       "      <th>concave_points_mean</th>\n",
       "      <th>symmetry_mean</th>\n",
       "      <th>fractal_dimension_mean</th>\n",
       "      <th>radius_se</th>\n",
       "      <th>texture_se</th>\n",
       "      <th>perimeter_se</th>\n",
       "      <th>area_se</th>\n",
       "      <th>smoothness_se</th>\n",
       "      <th>compactness_se</th>\n",
       "      <th>concavity_se</th>\n",
       "      <th>concave_points_se</th>\n",
       "      <th>symmetry_se</th>\n",
       "      <th>fractal_dimension_se</th>\n",
       "      <th>radius_worst</th>\n",
       "      <th>texture_worst</th>\n",
       "      <th>perimeter_worst</th>\n",
       "      <th>area_worst</th>\n",
       "      <th>smoothness_worst</th>\n",
       "      <th>compactness_worst</th>\n",
       "      <th>concavity_worst</th>\n",
       "      <th>concave_points_worst</th>\n",
       "      <th>symmetry_worst</th>\n",
       "      <th>fractal_dimension_worst</th>\n",
       "      <th>Unnamed:_32</th>\n",
       "      <th>target</th>\n",
       "    </tr>\n",
       "  </thead>\n",
       "  <tbody>\n",
       "    <tr>\n",
       "      <th>0</th>\n",
       "      <td>842302</td>\n",
       "      <td>17.99</td>\n",
       "      <td>10.38</td>\n",
       "      <td>122.80</td>\n",
       "      <td>1001.0</td>\n",
       "      <td>0.11840</td>\n",
       "      <td>0.27760</td>\n",
       "      <td>0.3001</td>\n",
       "      <td>0.14710</td>\n",
       "      <td>0.2419</td>\n",
       "      <td>0.07871</td>\n",
       "      <td>1.0950</td>\n",
       "      <td>0.9053</td>\n",
       "      <td>8.589</td>\n",
       "      <td>153.40</td>\n",
       "      <td>0.006399</td>\n",
       "      <td>0.04904</td>\n",
       "      <td>0.05373</td>\n",
       "      <td>0.01587</td>\n",
       "      <td>0.03003</td>\n",
       "      <td>0.006193</td>\n",
       "      <td>25.38</td>\n",
       "      <td>17.33</td>\n",
       "      <td>184.60</td>\n",
       "      <td>2019.0</td>\n",
       "      <td>0.1622</td>\n",
       "      <td>0.6656</td>\n",
       "      <td>0.7119</td>\n",
       "      <td>0.2654</td>\n",
       "      <td>0.4601</td>\n",
       "      <td>0.11890</td>\n",
       "      <td>NaN</td>\n",
       "      <td>1</td>\n",
       "    </tr>\n",
       "    <tr>\n",
       "      <th>1</th>\n",
       "      <td>842517</td>\n",
       "      <td>20.57</td>\n",
       "      <td>17.77</td>\n",
       "      <td>132.90</td>\n",
       "      <td>1326.0</td>\n",
       "      <td>0.08474</td>\n",
       "      <td>0.07864</td>\n",
       "      <td>0.0869</td>\n",
       "      <td>0.07017</td>\n",
       "      <td>0.1812</td>\n",
       "      <td>0.05667</td>\n",
       "      <td>0.5435</td>\n",
       "      <td>0.7339</td>\n",
       "      <td>3.398</td>\n",
       "      <td>74.08</td>\n",
       "      <td>0.005225</td>\n",
       "      <td>0.01308</td>\n",
       "      <td>0.01860</td>\n",
       "      <td>0.01340</td>\n",
       "      <td>0.01389</td>\n",
       "      <td>0.003532</td>\n",
       "      <td>24.99</td>\n",
       "      <td>23.41</td>\n",
       "      <td>158.80</td>\n",
       "      <td>1956.0</td>\n",
       "      <td>0.1238</td>\n",
       "      <td>0.1866</td>\n",
       "      <td>0.2416</td>\n",
       "      <td>0.1860</td>\n",
       "      <td>0.2750</td>\n",
       "      <td>0.08902</td>\n",
       "      <td>NaN</td>\n",
       "      <td>1</td>\n",
       "    </tr>\n",
       "    <tr>\n",
       "      <th>2</th>\n",
       "      <td>84300903</td>\n",
       "      <td>19.69</td>\n",
       "      <td>21.25</td>\n",
       "      <td>130.00</td>\n",
       "      <td>1203.0</td>\n",
       "      <td>0.10960</td>\n",
       "      <td>0.15990</td>\n",
       "      <td>0.1974</td>\n",
       "      <td>0.12790</td>\n",
       "      <td>0.2069</td>\n",
       "      <td>0.05999</td>\n",
       "      <td>0.7456</td>\n",
       "      <td>0.7869</td>\n",
       "      <td>4.585</td>\n",
       "      <td>94.03</td>\n",
       "      <td>0.006150</td>\n",
       "      <td>0.04006</td>\n",
       "      <td>0.03832</td>\n",
       "      <td>0.02058</td>\n",
       "      <td>0.02250</td>\n",
       "      <td>0.004571</td>\n",
       "      <td>23.57</td>\n",
       "      <td>25.53</td>\n",
       "      <td>152.50</td>\n",
       "      <td>1709.0</td>\n",
       "      <td>0.1444</td>\n",
       "      <td>0.4245</td>\n",
       "      <td>0.4504</td>\n",
       "      <td>0.2430</td>\n",
       "      <td>0.3613</td>\n",
       "      <td>0.08758</td>\n",
       "      <td>NaN</td>\n",
       "      <td>1</td>\n",
       "    </tr>\n",
       "    <tr>\n",
       "      <th>3</th>\n",
       "      <td>84348301</td>\n",
       "      <td>11.42</td>\n",
       "      <td>20.38</td>\n",
       "      <td>77.58</td>\n",
       "      <td>386.1</td>\n",
       "      <td>0.14250</td>\n",
       "      <td>0.28390</td>\n",
       "      <td>0.2414</td>\n",
       "      <td>0.10520</td>\n",
       "      <td>0.2597</td>\n",
       "      <td>0.09744</td>\n",
       "      <td>0.4956</td>\n",
       "      <td>1.1560</td>\n",
       "      <td>3.445</td>\n",
       "      <td>27.23</td>\n",
       "      <td>0.009110</td>\n",
       "      <td>0.07458</td>\n",
       "      <td>0.05661</td>\n",
       "      <td>0.01867</td>\n",
       "      <td>0.05963</td>\n",
       "      <td>0.009208</td>\n",
       "      <td>14.91</td>\n",
       "      <td>26.50</td>\n",
       "      <td>98.87</td>\n",
       "      <td>567.7</td>\n",
       "      <td>0.2098</td>\n",
       "      <td>0.8663</td>\n",
       "      <td>0.6869</td>\n",
       "      <td>0.2575</td>\n",
       "      <td>0.6638</td>\n",
       "      <td>0.17300</td>\n",
       "      <td>NaN</td>\n",
       "      <td>1</td>\n",
       "    </tr>\n",
       "    <tr>\n",
       "      <th>4</th>\n",
       "      <td>84358402</td>\n",
       "      <td>20.29</td>\n",
       "      <td>14.34</td>\n",
       "      <td>135.10</td>\n",
       "      <td>1297.0</td>\n",
       "      <td>0.10030</td>\n",
       "      <td>0.13280</td>\n",
       "      <td>0.1980</td>\n",
       "      <td>0.10430</td>\n",
       "      <td>0.1809</td>\n",
       "      <td>0.05883</td>\n",
       "      <td>0.7572</td>\n",
       "      <td>0.7813</td>\n",
       "      <td>5.438</td>\n",
       "      <td>94.44</td>\n",
       "      <td>0.011490</td>\n",
       "      <td>0.02461</td>\n",
       "      <td>0.05688</td>\n",
       "      <td>0.01885</td>\n",
       "      <td>0.01756</td>\n",
       "      <td>0.005115</td>\n",
       "      <td>22.54</td>\n",
       "      <td>16.67</td>\n",
       "      <td>152.20</td>\n",
       "      <td>1575.0</td>\n",
       "      <td>0.1374</td>\n",
       "      <td>0.2050</td>\n",
       "      <td>0.4000</td>\n",
       "      <td>0.1625</td>\n",
       "      <td>0.2364</td>\n",
       "      <td>0.07678</td>\n",
       "      <td>NaN</td>\n",
       "      <td>1</td>\n",
       "    </tr>\n",
       "  </tbody>\n",
       "</table>\n",
       "</div>"
      ],
      "text/plain": [
       "         id  radius_mean  texture_mean  perimeter_mean  area_mean  \\\n",
       "0    842302        17.99         10.38          122.80     1001.0   \n",
       "1    842517        20.57         17.77          132.90     1326.0   \n",
       "2  84300903        19.69         21.25          130.00     1203.0   \n",
       "3  84348301        11.42         20.38           77.58      386.1   \n",
       "4  84358402        20.29         14.34          135.10     1297.0   \n",
       "\n",
       "   smoothness_mean  compactness_mean  concavity_mean  concave_points_mean  \\\n",
       "0          0.11840           0.27760          0.3001              0.14710   \n",
       "1          0.08474           0.07864          0.0869              0.07017   \n",
       "2          0.10960           0.15990          0.1974              0.12790   \n",
       "3          0.14250           0.28390          0.2414              0.10520   \n",
       "4          0.10030           0.13280          0.1980              0.10430   \n",
       "\n",
       "   symmetry_mean  fractal_dimension_mean  radius_se  texture_se  perimeter_se  \\\n",
       "0         0.2419                 0.07871     1.0950      0.9053         8.589   \n",
       "1         0.1812                 0.05667     0.5435      0.7339         3.398   \n",
       "2         0.2069                 0.05999     0.7456      0.7869         4.585   \n",
       "3         0.2597                 0.09744     0.4956      1.1560         3.445   \n",
       "4         0.1809                 0.05883     0.7572      0.7813         5.438   \n",
       "\n",
       "   area_se  smoothness_se  compactness_se  concavity_se  concave_points_se  \\\n",
       "0   153.40       0.006399         0.04904       0.05373            0.01587   \n",
       "1    74.08       0.005225         0.01308       0.01860            0.01340   \n",
       "2    94.03       0.006150         0.04006       0.03832            0.02058   \n",
       "3    27.23       0.009110         0.07458       0.05661            0.01867   \n",
       "4    94.44       0.011490         0.02461       0.05688            0.01885   \n",
       "\n",
       "   symmetry_se  fractal_dimension_se  radius_worst  texture_worst  \\\n",
       "0      0.03003              0.006193         25.38          17.33   \n",
       "1      0.01389              0.003532         24.99          23.41   \n",
       "2      0.02250              0.004571         23.57          25.53   \n",
       "3      0.05963              0.009208         14.91          26.50   \n",
       "4      0.01756              0.005115         22.54          16.67   \n",
       "\n",
       "   perimeter_worst  area_worst  smoothness_worst  compactness_worst  \\\n",
       "0           184.60      2019.0            0.1622             0.6656   \n",
       "1           158.80      1956.0            0.1238             0.1866   \n",
       "2           152.50      1709.0            0.1444             0.4245   \n",
       "3            98.87       567.7            0.2098             0.8663   \n",
       "4           152.20      1575.0            0.1374             0.2050   \n",
       "\n",
       "   concavity_worst  concave_points_worst  symmetry_worst  \\\n",
       "0           0.7119                0.2654          0.4601   \n",
       "1           0.2416                0.1860          0.2750   \n",
       "2           0.4504                0.2430          0.3613   \n",
       "3           0.6869                0.2575          0.6638   \n",
       "4           0.4000                0.1625          0.2364   \n",
       "\n",
       "   fractal_dimension_worst  Unnamed:_32  target  \n",
       "0                  0.11890          NaN       1  \n",
       "1                  0.08902          NaN       1  \n",
       "2                  0.08758          NaN       1  \n",
       "3                  0.17300          NaN       1  \n",
       "4                  0.07678          NaN       1  "
      ]
     },
     "execution_count": 470,
     "metadata": {},
     "output_type": "execute_result"
    }
   ],
   "source": [
    "# first make sure target or label is categorical: our target is 1 if paid, and 0 if not\n",
    "df['target'] = df['diagnosis'].map({'B' : 0, 'M' : 1})\n",
    "df.drop('diagnosis', axis = 1, inplace = True)\n",
    "df.head()"
   ]
  },
  {
   "cell_type": "code",
   "execution_count": 471,
   "metadata": {},
   "outputs": [],
   "source": [
    "df = df.drop('Unnamed:_32', axis = 1)"
   ]
  },
  {
   "cell_type": "markdown",
   "metadata": {},
   "source": [
    "# 4- Which features are important for this label?"
   ]
  },
  {
   "cell_type": "markdown",
   "metadata": {},
   "source": [
    "## 4-a) for number features, we examin corr and p_value. if corr < some% and value > 0.05 with the label, we will drop it"
   ]
  },
  {
   "cell_type": "code",
   "execution_count": 472,
   "metadata": {},
   "outputs": [],
   "source": [
    "# for correlation threshold value, it is a difficult decision, we better look at below corr graph and choose\n",
    "# case by case which ones we want to remove."
   ]
  },
  {
   "cell_type": "code",
   "execution_count": 473,
   "metadata": {},
   "outputs": [
    {
     "data": {
      "text/plain": [
       "<matplotlib.axes._subplots.AxesSubplot at 0x113a78745c8>"
      ]
     },
     "execution_count": 473,
     "metadata": {},
     "output_type": "execute_result"
    },
    {
     "data": {
      "image/png": "[encoded data removed]",
      "text/plain": [
       "<Figure size 864x864 with 1 Axes>"
      ]
     },
     "metadata": {},
     "output_type": "display_data"
    }
   ],
   "source": [
    "np.abs(df.corr()['target']).sort_values(ascending = True)[:-1].plot.barh(figsize = (12,12))"
   ]
  },
  {
   "cell_type": "code",
   "execution_count": 474,
   "metadata": {},
   "outputs": [],
   "source": [
    "# let's drop 'symmetry_se', 'texture_se', 'fractal_dimension_mean'"
   ]
  },
  {
   "cell_type": "code",
   "execution_count": 475,
   "metadata": {},
   "outputs": [
    {
     "data": {
      "text/plain": [
       "Index(['symmetry_se', 'texture_se', 'fractal_dimension_mean', 'id',\n",
       "       'smoothness_se', 'fractal_dimension_se', 'concavity_se',\n",
       "       'compactness_se', 'fractal_dimension_worst', 'symmetry_mean',\n",
       "       'smoothness_mean', 'concave_points_se', 'texture_mean',\n",
       "       'symmetry_worst', 'smoothness_worst', 'texture_worst', 'area_se',\n",
       "       'perimeter_se', 'radius_se', 'compactness_worst'],\n",
       "      dtype='object')"
      ]
     },
     "execution_count": 475,
     "metadata": {},
     "output_type": "execute_result"
    }
   ],
   "source": [
    "np.abs(df.corr()['target']).sort_values(ascending = True)[:20].index"
   ]
  },
  {
   "cell_type": "code",
   "execution_count": 476,
   "metadata": {},
   "outputs": [],
   "source": [
    "# now look at p_values\n",
    "dfcopy = df.dropna()"
   ]
  },
  {
   "cell_type": "code",
   "execution_count": 477,
   "metadata": {},
   "outputs": [],
   "source": [
    "ther = 0.05"
   ]
  },
  {
   "cell_type": "code",
   "execution_count": 478,
   "metadata": {},
   "outputs": [
    {
     "data": {
      "text/html": [
       "<div>\n",
       "<style scoped>\n",
       "    .dataframe tbody tr th:only-of-type {\n",
       "        vertical-align: middle;\n",
       "    }\n",
       "\n",
       "    .dataframe tbody tr th {\n",
       "        vertical-align: top;\n",
       "    }\n",
       "\n",
       "    .dataframe thead th {\n",
       "        text-align: right;\n",
       "    }\n",
       "</style>\n",
       "<table border=\"1\" class=\"dataframe\">\n",
       "  <thead>\n",
       "    <tr style=\"text-align: right;\">\n",
       "      <th></th>\n",
       "      <th>col</th>\n",
       "      <th>p_values</th>\n",
       "    </tr>\n",
       "  </thead>\n",
       "  <tbody>\n",
       "    <tr>\n",
       "      <th>19</th>\n",
       "      <td>symmetry_se</td>\n",
       "      <td>0.876642</td>\n",
       "    </tr>\n",
       "    <tr>\n",
       "      <th>12</th>\n",
       "      <td>texture_se</td>\n",
       "      <td>0.843332</td>\n",
       "    </tr>\n",
       "    <tr>\n",
       "      <th>10</th>\n",
       "      <td>fractal_dimension_mean</td>\n",
       "      <td>0.759937</td>\n",
       "    </tr>\n",
       "    <tr>\n",
       "      <th>0</th>\n",
       "      <td>id</td>\n",
       "      <td>0.343682</td>\n",
       "    </tr>\n",
       "    <tr>\n",
       "      <th>15</th>\n",
       "      <td>smoothness_se</td>\n",
       "      <td>0.110297</td>\n",
       "    </tr>\n",
       "    <tr>\n",
       "      <th>20</th>\n",
       "      <td>fractal_dimension_se</td>\n",
       "      <td>0.063074</td>\n",
       "    </tr>\n",
       "  </tbody>\n",
       "</table>\n",
       "</div>"
      ],
      "text/plain": [
       "                       col  p_values\n",
       "19             symmetry_se  0.876642\n",
       "12              texture_se  0.843332\n",
       "10  fractal_dimension_mean  0.759937\n",
       "0                       id  0.343682\n",
       "15           smoothness_se  0.110297\n",
       "20    fractal_dimension_se  0.063074"
      ]
     },
     "execution_count": 478,
     "metadata": {},
     "output_type": "execute_result"
    }
   ],
   "source": [
    "col_list = []\n",
    "p_list = []\n",
    "for col in df.select_dtypes(['number']):\n",
    "    slope, intercept, r_value, p_value, std_err = stats.linregress(dfcopy[col], dfcopy['target'])\n",
    "    col_list.append(col)\n",
    "    p_list.append(p_value)\n",
    "    #print(f'{col} is associated with the target wtih p_value of:    {p_value}')\n",
    "\n",
    "pval_table = pd.DataFrame(data = col_list, columns = ['col'])\n",
    "pval_table['p_values'] = p_list\n",
    "pval_table[pval_table['p_values'] > ther].sort_values(by = 'p_values', ascending = False)\n",
    "\n",
    "# we gotta drop when p_value > 0.05"
   ]
  },
  {
   "cell_type": "code",
   "execution_count": 479,
   "metadata": {},
   "outputs": [],
   "source": [
    "df = df.drop(['symmetry_se', 'texture_se', 'fractal_dimension_mean', 'id', 'smoothness_se', 'fractal_dimension_se'], axis = 1)"
   ]
  },
  {
   "cell_type": "code",
   "execution_count": 480,
   "metadata": {},
   "outputs": [],
   "source": [
    "df4 = df.copy()"
   ]
  },
  {
   "cell_type": "markdown",
   "metadata": {},
   "source": [
    "# 8.5 Dimensionality reduction"
   ]
  },
  {
   "cell_type": "code",
   "execution_count": 481,
   "metadata": {},
   "outputs": [],
   "source": [
    "# make a copy of the dataframe\n",
    "dfcopy = df.drop('target', axis = 1)"
   ]
  },
  {
   "cell_type": "markdown",
   "metadata": {},
   "source": [
    "## b) features with almost no variation to be deleted"
   ]
  },
  {
   "cell_type": "code",
   "execution_count": 482,
   "metadata": {},
   "outputs": [],
   "source": [
    "ther = 1"
   ]
  },
  {
   "cell_type": "code",
   "execution_count": 483,
   "metadata": {},
   "outputs": [
    {
     "data": {
      "text/html": [
       "<div>\n",
       "<style scoped>\n",
       "    .dataframe tbody tr th:only-of-type {\n",
       "        vertical-align: middle;\n",
       "    }\n",
       "\n",
       "    .dataframe tbody tr th {\n",
       "        vertical-align: top;\n",
       "    }\n",
       "\n",
       "    .dataframe thead th {\n",
       "        text-align: right;\n",
       "    }\n",
       "</style>\n",
       "<table border=\"1\" class=\"dataframe\">\n",
       "  <thead>\n",
       "    <tr style=\"text-align: right;\">\n",
       "      <th></th>\n",
       "      <th>var</th>\n",
       "    </tr>\n",
       "  </thead>\n",
       "  <tbody>\n",
       "    <tr>\n",
       "      <th>smoothness_mean</th>\n",
       "      <td>14.595358</td>\n",
       "    </tr>\n",
       "    <tr>\n",
       "      <th>symmetry_mean</th>\n",
       "      <td>15.132479</td>\n",
       "    </tr>\n",
       "    <tr>\n",
       "      <th>smoothness_worst</th>\n",
       "      <td>17.249129</td>\n",
       "    </tr>\n",
       "    <tr>\n",
       "      <th>symmetry_worst</th>\n",
       "      <td>21.328052</td>\n",
       "    </tr>\n",
       "    <tr>\n",
       "      <th>fractal_dimension_worst</th>\n",
       "      <td>21.515387</td>\n",
       "    </tr>\n",
       "    <tr>\n",
       "      <th>texture_mean</th>\n",
       "      <td>22.297118</td>\n",
       "    </tr>\n",
       "    <tr>\n",
       "      <th>texture_worst</th>\n",
       "      <td>23.936613</td>\n",
       "    </tr>\n",
       "    <tr>\n",
       "      <th>radius_mean</th>\n",
       "      <td>24.944971</td>\n",
       "    </tr>\n",
       "    <tr>\n",
       "      <th>perimeter_mean</th>\n",
       "      <td>26.420829</td>\n",
       "    </tr>\n",
       "    <tr>\n",
       "      <th>radius_worst</th>\n",
       "      <td>29.707943</td>\n",
       "    </tr>\n",
       "    <tr>\n",
       "      <th>perimeter_worst</th>\n",
       "      <td>31.327767</td>\n",
       "    </tr>\n",
       "    <tr>\n",
       "      <th>compactness_mean</th>\n",
       "      <td>50.615545</td>\n",
       "    </tr>\n",
       "    <tr>\n",
       "      <th>concave_points_se</th>\n",
       "      <td>52.307676</td>\n",
       "    </tr>\n",
       "    <tr>\n",
       "      <th>area_mean</th>\n",
       "      <td>53.736446</td>\n",
       "    </tr>\n",
       "    <tr>\n",
       "      <th>concave_points_worst</th>\n",
       "      <td>57.354949</td>\n",
       "    </tr>\n",
       "    <tr>\n",
       "      <th>compactness_worst</th>\n",
       "      <td>61.878930</td>\n",
       "    </tr>\n",
       "    <tr>\n",
       "      <th>area_worst</th>\n",
       "      <td>64.656814</td>\n",
       "    </tr>\n",
       "    <tr>\n",
       "      <th>radius_se</th>\n",
       "      <td>68.443203</td>\n",
       "    </tr>\n",
       "    <tr>\n",
       "      <th>compactness_se</th>\n",
       "      <td>70.288413</td>\n",
       "    </tr>\n",
       "    <tr>\n",
       "      <th>perimeter_se</th>\n",
       "      <td>70.544758</td>\n",
       "    </tr>\n",
       "    <tr>\n",
       "      <th>concavity_worst</th>\n",
       "      <td>76.646990</td>\n",
       "    </tr>\n",
       "    <tr>\n",
       "      <th>concave_points_mean</th>\n",
       "      <td>79.320365</td>\n",
       "    </tr>\n",
       "    <tr>\n",
       "      <th>concavity_mean</th>\n",
       "      <td>89.775251</td>\n",
       "    </tr>\n",
       "    <tr>\n",
       "      <th>concavity_se</th>\n",
       "      <td>94.645792</td>\n",
       "    </tr>\n",
       "    <tr>\n",
       "      <th>area_se</th>\n",
       "      <td>112.777143</td>\n",
       "    </tr>\n",
       "  </tbody>\n",
       "</table>\n",
       "</div>"
      ],
      "text/plain": [
       "                                var\n",
       "smoothness_mean           14.595358\n",
       "symmetry_mean             15.132479\n",
       "smoothness_worst          17.249129\n",
       "symmetry_worst            21.328052\n",
       "fractal_dimension_worst   21.515387\n",
       "texture_mean              22.297118\n",
       "texture_worst             23.936613\n",
       "radius_mean               24.944971\n",
       "perimeter_mean            26.420829\n",
       "radius_worst              29.707943\n",
       "perimeter_worst           31.327767\n",
       "compactness_mean          50.615545\n",
       "concave_points_se         52.307676\n",
       "area_mean                 53.736446\n",
       "concave_points_worst      57.354949\n",
       "compactness_worst         61.878930\n",
       "area_worst                64.656814\n",
       "radius_se                 68.443203\n",
       "compactness_se            70.288413\n",
       "perimeter_se              70.544758\n",
       "concavity_worst           76.646990\n",
       "concave_points_mean       79.320365\n",
       "concavity_mean            89.775251\n",
       "concavity_se              94.645792\n",
       "area_se                  112.777143"
      ]
     },
     "execution_count": 483,
     "metadata": {},
     "output_type": "execute_result"
    }
   ],
   "source": [
    "# here we will drop columns that have relative_std_percent of below 1\n",
    "\n",
    "cols_to_be_deleted = []\n",
    "std_cols = []\n",
    "for col in dfcopy.columns:\n",
    "    std_col = 100 * (dfcopy[col].std()) / (dfcopy[col].mean())\n",
    "    std_cols.append(std_col)\n",
    "    if std_col < ther and col not in cols_to_be_deleted:\n",
    "        cols_to_be_deleted.append(col)\n",
    "    \n",
    "\n",
    "df_std = pd.DataFrame(data = std_cols, index = dfcopy.columns, columns = ['var'])\n",
    "df_std.sort_values(by = 'var')"
   ]
  },
  {
   "cell_type": "code",
   "execution_count": 484,
   "metadata": {},
   "outputs": [
    {
     "data": {
      "text/plain": [
       "[]"
      ]
     },
     "execution_count": 484,
     "metadata": {},
     "output_type": "execute_result"
    }
   ],
   "source": [
    "cols_to_be_deleted"
   ]
  },
  {
   "cell_type": "markdown",
   "metadata": {},
   "source": [
    "## c) pairwise correlation"
   ]
  },
  {
   "cell_type": "code",
   "execution_count": 485,
   "metadata": {},
   "outputs": [],
   "source": [
    "ther = 0.95"
   ]
  },
  {
   "cell_type": "code",
   "execution_count": 486,
   "metadata": {},
   "outputs": [
    {
     "data": {
      "text/plain": [
       "<matplotlib.axes._subplots.AxesSubplot at 0x113a971fe08>"
      ]
     },
     "execution_count": 486,
     "metadata": {},
     "output_type": "execute_result"
    },
    {
     "data": {
      "image/png": "[encoded data removed]",
      "text/plain": [
       "<Figure size 1152x1152 with 2 Axes>"
      ]
     },
     "metadata": {},
     "output_type": "display_data"
    }
   ],
   "source": [
    "dfcorr = dfcopy.corr()\n",
    "plt.figure(figsize = (16,16))\n",
    "sns.heatmap(dfcorr[(dfcorr > 0.3) | (dfcorr < -0.3)])"
   ]
  },
  {
   "cell_type": "code",
   "execution_count": 487,
   "metadata": {},
   "outputs": [],
   "source": [
    "# here if there is pairwise correlation above 0.75, we omit one of the columns to be added to the list\n",
    "for i,col1 in enumerate(dfcorr.columns):\n",
    "    for j, col2 in enumerate(dfcorr.columns):\n",
    "        if j > i:\n",
    "            corr_cell = dfcorr.loc[col1, col2]\n",
    "            if corr_cell > ther and col2 not in cols_to_be_deleted:\n",
    "                cols_to_be_deleted.append(col2)                "
   ]
  },
  {
   "cell_type": "code",
   "execution_count": 488,
   "metadata": {},
   "outputs": [
    {
     "data": {
      "text/plain": [
       "['perimeter_mean',\n",
       " 'area_mean',\n",
       " 'radius_worst',\n",
       " 'perimeter_worst',\n",
       " 'area_worst',\n",
       " 'perimeter_se',\n",
       " 'area_se']"
      ]
     },
     "execution_count": 488,
     "metadata": {},
     "output_type": "execute_result"
    }
   ],
   "source": [
    "cols_to_be_deleted"
   ]
  },
  {
   "cell_type": "markdown",
   "metadata": {},
   "source": [
    "## d) multi-co-linearity\n",
    "based on VIF calculation of higher than 5"
   ]
  },
  {
   "cell_type": "code",
   "execution_count": 489,
   "metadata": {},
   "outputs": [],
   "source": [
    "ther = 5"
   ]
  },
  {
   "cell_type": "code",
   "execution_count": 490,
   "metadata": {},
   "outputs": [],
   "source": [
    "# vif of more than 5 means multi-co-linearity\n",
    "for i,col1 in enumerate(dfcorr.columns):\n",
    "    for j, col2 in enumerate(dfcorr.columns):\n",
    "        if j > i:\n",
    "            slope, intercept, r_value, p_value, std_err = stats.linregress(df[col1], df[col2])\n",
    "            vif = 1 / (1 - r_value * r_value)\n",
    "            if vif > ther and col2 not in cols_to_be_deleted:\n",
    "                cols_to_be_deleted.append(col2)             "
   ]
  },
  {
   "cell_type": "code",
   "execution_count": 491,
   "metadata": {},
   "outputs": [
    {
     "data": {
      "text/plain": [
       "['perimeter_mean',\n",
       " 'area_mean',\n",
       " 'radius_worst',\n",
       " 'perimeter_worst',\n",
       " 'area_worst',\n",
       " 'perimeter_se',\n",
       " 'area_se',\n",
       " 'texture_worst',\n",
       " 'concave_points_mean',\n",
       " 'concave_points_worst']"
      ]
     },
     "execution_count": 491,
     "metadata": {},
     "output_type": "execute_result"
    }
   ],
   "source": [
    "cols_to_be_deleted"
   ]
  },
  {
   "cell_type": "markdown",
   "metadata": {},
   "source": [
    "## e) Decision Tree feature importance"
   ]
  },
  {
   "cell_type": "code",
   "execution_count": 492,
   "metadata": {},
   "outputs": [],
   "source": [
    "ther = 0.001"
   ]
  },
  {
   "cell_type": "code",
   "execution_count": 493,
   "metadata": {},
   "outputs": [],
   "source": [
    "X = dfcopy\n",
    "y = df['target']"
   ]
  },
  {
   "cell_type": "code",
   "execution_count": 494,
   "metadata": {},
   "outputs": [],
   "source": [
    "# Create decision tree classifer object\n",
    "clf = RandomForestClassifier()\n",
    "\n",
    "# Train model\n",
    "model = clf.fit(X, y)\n",
    "\n",
    "# Calculate feature importances\n",
    "importances = model.feature_importances_"
   ]
  },
  {
   "cell_type": "code",
   "execution_count": 495,
   "metadata": {},
   "outputs": [
    {
     "data": {
      "text/plain": [
       "<matplotlib.axes._subplots.AxesSubplot at 0x113a5fbb548>"
      ]
     },
     "execution_count": 495,
     "metadata": {},
     "output_type": "execute_result"
    },
    {
     "data": {
      "image/png": "[encoded data removed]",
      "text/plain": [
       "<Figure size 864x1728 with 1 Axes>"
      ]
     },
     "metadata": {},
     "output_type": "display_data"
    }
   ],
   "source": [
    "df_importance = pd.DataFrame(data = importances, index = dfcopy.columns, columns = ['Importance'])\n",
    "df_importance.sort_values(by = 'Importance').plot.barh(figsize = (12,24))"
   ]
  },
  {
   "cell_type": "code",
   "execution_count": 496,
   "metadata": {},
   "outputs": [
    {
     "data": {
      "text/html": [
       "<div>\n",
       "<style scoped>\n",
       "    .dataframe tbody tr th:only-of-type {\n",
       "        vertical-align: middle;\n",
       "    }\n",
       "\n",
       "    .dataframe tbody tr th {\n",
       "        vertical-align: top;\n",
       "    }\n",
       "\n",
       "    .dataframe thead th {\n",
       "        text-align: right;\n",
       "    }\n",
       "</style>\n",
       "<table border=\"1\" class=\"dataframe\">\n",
       "  <thead>\n",
       "    <tr style=\"text-align: right;\">\n",
       "      <th></th>\n",
       "      <th>Importance</th>\n",
       "    </tr>\n",
       "  </thead>\n",
       "  <tbody>\n",
       "    <tr>\n",
       "      <th>concave_points_se</th>\n",
       "      <td>0.003310</td>\n",
       "    </tr>\n",
       "    <tr>\n",
       "      <th>smoothness_mean</th>\n",
       "      <td>0.004793</td>\n",
       "    </tr>\n",
       "    <tr>\n",
       "      <th>symmetry_mean</th>\n",
       "      <td>0.005281</td>\n",
       "    </tr>\n",
       "    <tr>\n",
       "      <th>concavity_se</th>\n",
       "      <td>0.005593</td>\n",
       "    </tr>\n",
       "    <tr>\n",
       "      <th>compactness_se</th>\n",
       "      <td>0.006017</td>\n",
       "    </tr>\n",
       "    <tr>\n",
       "      <th>fractal_dimension_worst</th>\n",
       "      <td>0.006118</td>\n",
       "    </tr>\n",
       "    <tr>\n",
       "      <th>symmetry_worst</th>\n",
       "      <td>0.008375</td>\n",
       "    </tr>\n",
       "    <tr>\n",
       "      <th>perimeter_se</th>\n",
       "      <td>0.010261</td>\n",
       "    </tr>\n",
       "    <tr>\n",
       "      <th>compactness_mean</th>\n",
       "      <td>0.013097</td>\n",
       "    </tr>\n",
       "    <tr>\n",
       "      <th>compactness_worst</th>\n",
       "      <td>0.013503</td>\n",
       "    </tr>\n",
       "    <tr>\n",
       "      <th>smoothness_worst</th>\n",
       "      <td>0.014575</td>\n",
       "    </tr>\n",
       "    <tr>\n",
       "      <th>radius_se</th>\n",
       "      <td>0.015931</td>\n",
       "    </tr>\n",
       "    <tr>\n",
       "      <th>texture_mean</th>\n",
       "      <td>0.018365</td>\n",
       "    </tr>\n",
       "    <tr>\n",
       "      <th>texture_worst</th>\n",
       "      <td>0.018371</td>\n",
       "    </tr>\n",
       "    <tr>\n",
       "      <th>radius_mean</th>\n",
       "      <td>0.023494</td>\n",
       "    </tr>\n",
       "    <tr>\n",
       "      <th>concavity_worst</th>\n",
       "      <td>0.025601</td>\n",
       "    </tr>\n",
       "    <tr>\n",
       "      <th>area_se</th>\n",
       "      <td>0.031347</td>\n",
       "    </tr>\n",
       "    <tr>\n",
       "      <th>area_mean</th>\n",
       "      <td>0.033896</td>\n",
       "    </tr>\n",
       "    <tr>\n",
       "      <th>concavity_mean</th>\n",
       "      <td>0.037129</td>\n",
       "    </tr>\n",
       "    <tr>\n",
       "      <th>perimeter_mean</th>\n",
       "      <td>0.055347</td>\n",
       "    </tr>\n",
       "    <tr>\n",
       "      <th>concave_points_mean</th>\n",
       "      <td>0.098993</td>\n",
       "    </tr>\n",
       "    <tr>\n",
       "      <th>area_worst</th>\n",
       "      <td>0.113439</td>\n",
       "    </tr>\n",
       "    <tr>\n",
       "      <th>radius_worst</th>\n",
       "      <td>0.128741</td>\n",
       "    </tr>\n",
       "    <tr>\n",
       "      <th>concave_points_worst</th>\n",
       "      <td>0.154006</td>\n",
       "    </tr>\n",
       "    <tr>\n",
       "      <th>perimeter_worst</th>\n",
       "      <td>0.154418</td>\n",
       "    </tr>\n",
       "  </tbody>\n",
       "</table>\n",
       "</div>"
      ],
      "text/plain": [
       "                         Importance\n",
       "concave_points_se          0.003310\n",
       "smoothness_mean            0.004793\n",
       "symmetry_mean              0.005281\n",
       "concavity_se               0.005593\n",
       "compactness_se             0.006017\n",
       "fractal_dimension_worst    0.006118\n",
       "symmetry_worst             0.008375\n",
       "perimeter_se               0.010261\n",
       "compactness_mean           0.013097\n",
       "compactness_worst          0.013503\n",
       "smoothness_worst           0.014575\n",
       "radius_se                  0.015931\n",
       "texture_mean               0.018365\n",
       "texture_worst              0.018371\n",
       "radius_mean                0.023494\n",
       "concavity_worst            0.025601\n",
       "area_se                    0.031347\n",
       "area_mean                  0.033896\n",
       "concavity_mean             0.037129\n",
       "perimeter_mean             0.055347\n",
       "concave_points_mean        0.098993\n",
       "area_worst                 0.113439\n",
       "radius_worst               0.128741\n",
       "concave_points_worst       0.154006\n",
       "perimeter_worst            0.154418"
      ]
     },
     "execution_count": 496,
     "metadata": {},
     "output_type": "execute_result"
    }
   ],
   "source": [
    "df_importance.sort_values(by = 'Importance')"
   ]
  },
  {
   "cell_type": "code",
   "execution_count": 497,
   "metadata": {},
   "outputs": [],
   "source": [
    "for ind in df_importance.index:\n",
    "    imp = df_importance.loc[ind]['Importance']\n",
    "    if imp < ther and ind not in cols_to_be_deleted:\n",
    "        cols_to_be_deleted.append(ind)"
   ]
  },
  {
   "cell_type": "code",
   "execution_count": 498,
   "metadata": {},
   "outputs": [
    {
     "data": {
      "text/plain": [
       "['perimeter_mean',\n",
       " 'area_mean',\n",
       " 'radius_worst',\n",
       " 'perimeter_worst',\n",
       " 'area_worst',\n",
       " 'perimeter_se',\n",
       " 'area_se',\n",
       " 'texture_worst',\n",
       " 'concave_points_mean',\n",
       " 'concave_points_worst']"
      ]
     },
     "execution_count": 498,
     "metadata": {},
     "output_type": "execute_result"
    }
   ],
   "source": [
    "cols_to_be_deleted"
   ]
  },
  {
   "cell_type": "markdown",
   "metadata": {},
   "source": [
    "## f) based on P_values"
   ]
  },
  {
   "cell_type": "code",
   "execution_count": 499,
   "metadata": {},
   "outputs": [
    {
     "data": {
      "text/html": [
       "<div>\n",
       "<style scoped>\n",
       "    .dataframe tbody tr th:only-of-type {\n",
       "        vertical-align: middle;\n",
       "    }\n",
       "\n",
       "    .dataframe tbody tr th {\n",
       "        vertical-align: top;\n",
       "    }\n",
       "\n",
       "    .dataframe thead th {\n",
       "        text-align: right;\n",
       "    }\n",
       "</style>\n",
       "<table border=\"1\" class=\"dataframe\">\n",
       "  <thead>\n",
       "    <tr style=\"text-align: right;\">\n",
       "      <th></th>\n",
       "      <th>col</th>\n",
       "      <th>p_values</th>\n",
       "    </tr>\n",
       "  </thead>\n",
       "  <tbody>\n",
       "    <tr>\n",
       "      <th>13</th>\n",
       "      <td>concavity_se</td>\n",
       "      <td>8.260176e-10</td>\n",
       "    </tr>\n",
       "    <tr>\n",
       "      <th>12</th>\n",
       "      <td>compactness_se</td>\n",
       "      <td>9.975995e-13</td>\n",
       "    </tr>\n",
       "    <tr>\n",
       "      <th>24</th>\n",
       "      <td>fractal_dimension_worst</td>\n",
       "      <td>2.316432e-15</td>\n",
       "    </tr>\n",
       "    <tr>\n",
       "      <th>8</th>\n",
       "      <td>symmetry_mean</td>\n",
       "      <td>5.733384e-16</td>\n",
       "    </tr>\n",
       "    <tr>\n",
       "      <th>4</th>\n",
       "      <td>smoothness_mean</td>\n",
       "      <td>1.051850e-18</td>\n",
       "    </tr>\n",
       "    <tr>\n",
       "      <th>14</th>\n",
       "      <td>concave_points_se</td>\n",
       "      <td>3.072309e-24</td>\n",
       "    </tr>\n",
       "    <tr>\n",
       "      <th>1</th>\n",
       "      <td>texture_mean</td>\n",
       "      <td>4.058636e-25</td>\n",
       "    </tr>\n",
       "    <tr>\n",
       "      <th>23</th>\n",
       "      <td>symmetry_worst</td>\n",
       "      <td>2.951121e-25</td>\n",
       "    </tr>\n",
       "    <tr>\n",
       "      <th>19</th>\n",
       "      <td>smoothness_worst</td>\n",
       "      <td>6.575144e-26</td>\n",
       "    </tr>\n",
       "    <tr>\n",
       "      <th>16</th>\n",
       "      <td>texture_worst</td>\n",
       "      <td>1.078057e-30</td>\n",
       "    </tr>\n",
       "    <tr>\n",
       "      <th>11</th>\n",
       "      <td>area_se</td>\n",
       "      <td>5.895521e-46</td>\n",
       "    </tr>\n",
       "    <tr>\n",
       "      <th>10</th>\n",
       "      <td>perimeter_se</td>\n",
       "      <td>1.651905e-47</td>\n",
       "    </tr>\n",
       "    <tr>\n",
       "      <th>9</th>\n",
       "      <td>radius_se</td>\n",
       "      <td>9.738949e-50</td>\n",
       "    </tr>\n",
       "    <tr>\n",
       "      <th>20</th>\n",
       "      <td>compactness_worst</td>\n",
       "      <td>7.069816e-55</td>\n",
       "    </tr>\n",
       "    <tr>\n",
       "      <th>5</th>\n",
       "      <td>compactness_mean</td>\n",
       "      <td>3.938263e-56</td>\n",
       "    </tr>\n",
       "    <tr>\n",
       "      <th>21</th>\n",
       "      <td>concavity_worst</td>\n",
       "      <td>2.464664e-72</td>\n",
       "    </tr>\n",
       "    <tr>\n",
       "      <th>6</th>\n",
       "      <td>concavity_mean</td>\n",
       "      <td>9.966556e-84</td>\n",
       "    </tr>\n",
       "    <tr>\n",
       "      <th>3</th>\n",
       "      <td>area_mean</td>\n",
       "      <td>4.734564e-88</td>\n",
       "    </tr>\n",
       "    <tr>\n",
       "      <th>0</th>\n",
       "      <td>radius_mean</td>\n",
       "      <td>8.465941e-96</td>\n",
       "    </tr>\n",
       "    <tr>\n",
       "      <th>18</th>\n",
       "      <td>area_worst</td>\n",
       "      <td>2.828848e-97</td>\n",
       "    </tr>\n",
       "    <tr>\n",
       "      <th>2</th>\n",
       "      <td>perimeter_mean</td>\n",
       "      <td>8.436251e-101</td>\n",
       "    </tr>\n",
       "    <tr>\n",
       "      <th>15</th>\n",
       "      <td>radius_worst</td>\n",
       "      <td>8.482292e-116</td>\n",
       "    </tr>\n",
       "    <tr>\n",
       "      <th>7</th>\n",
       "      <td>concave_points_mean</td>\n",
       "      <td>7.101150e-116</td>\n",
       "    </tr>\n",
       "    <tr>\n",
       "      <th>17</th>\n",
       "      <td>perimeter_worst</td>\n",
       "      <td>5.771397e-119</td>\n",
       "    </tr>\n",
       "    <tr>\n",
       "      <th>22</th>\n",
       "      <td>concave_points_worst</td>\n",
       "      <td>1.969100e-124</td>\n",
       "    </tr>\n",
       "  </tbody>\n",
       "</table>\n",
       "</div>"
      ],
      "text/plain": [
       "                        col       p_values\n",
       "13             concavity_se   8.260176e-10\n",
       "12           compactness_se   9.975995e-13\n",
       "24  fractal_dimension_worst   2.316432e-15\n",
       "8             symmetry_mean   5.733384e-16\n",
       "4           smoothness_mean   1.051850e-18\n",
       "14        concave_points_se   3.072309e-24\n",
       "1              texture_mean   4.058636e-25\n",
       "23           symmetry_worst   2.951121e-25\n",
       "19         smoothness_worst   6.575144e-26\n",
       "16            texture_worst   1.078057e-30\n",
       "11                  area_se   5.895521e-46\n",
       "10             perimeter_se   1.651905e-47\n",
       "9                 radius_se   9.738949e-50\n",
       "20        compactness_worst   7.069816e-55\n",
       "5          compactness_mean   3.938263e-56\n",
       "21          concavity_worst   2.464664e-72\n",
       "6            concavity_mean   9.966556e-84\n",
       "3                 area_mean   4.734564e-88\n",
       "0               radius_mean   8.465941e-96\n",
       "18               area_worst   2.828848e-97\n",
       "2            perimeter_mean  8.436251e-101\n",
       "15             radius_worst  8.482292e-116\n",
       "7       concave_points_mean  7.101150e-116\n",
       "17          perimeter_worst  5.771397e-119\n",
       "22     concave_points_worst  1.969100e-124"
      ]
     },
     "execution_count": 499,
     "metadata": {},
     "output_type": "execute_result"
    }
   ],
   "source": [
    "col_list = []\n",
    "p_list = []\n",
    "for col in dfcopy.columns:\n",
    "    slope, intercept, r_value, p_value, std_err = stats.linregress(X[col], y)\n",
    "    col_list.append(col)\n",
    "    p_list.append(p_value)\n",
    "    if p_value > 0.05 and col not in cols_to_be_deleted:\n",
    "        cols_to_be_deleted.append(col)\n",
    "    \n",
    "    \n",
    "pval_table = pd.DataFrame(data = col_list, columns = ['col'])\n",
    "pval_table['p_values'] = p_list\n",
    "pval_table.sort_values(by = 'p_values', ascending = False)\n",
    "\n",
    "# we love p_values of less than 0.05, since p_value is the probability that the feature is NOT important at all"
   ]
  },
  {
   "cell_type": "code",
   "execution_count": 500,
   "metadata": {},
   "outputs": [
    {
     "data": {
      "text/plain": [
       "['perimeter_mean',\n",
       " 'area_mean',\n",
       " 'radius_worst',\n",
       " 'perimeter_worst',\n",
       " 'area_worst',\n",
       " 'perimeter_se',\n",
       " 'area_se',\n",
       " 'texture_worst',\n",
       " 'concave_points_mean',\n",
       " 'concave_points_worst']"
      ]
     },
     "execution_count": 500,
     "metadata": {},
     "output_type": "execute_result"
    }
   ],
   "source": [
    "cols_to_be_deleted"
   ]
  },
  {
   "cell_type": "code",
   "execution_count": 501,
   "metadata": {},
   "outputs": [],
   "source": [
    "df = df.drop(cols_to_be_deleted, axis = 1)"
   ]
  },
  {
   "cell_type": "code",
   "execution_count": 502,
   "metadata": {},
   "outputs": [
    {
     "data": {
      "text/plain": [
       "(569, 16)"
      ]
     },
     "execution_count": 502,
     "metadata": {},
     "output_type": "execute_result"
    }
   ],
   "source": [
    "df.shape"
   ]
  },
  {
   "cell_type": "code",
   "execution_count": 503,
   "metadata": {},
   "outputs": [],
   "source": [
    "df85 = df.copy()"
   ]
  },
  {
   "cell_type": "markdown",
   "metadata": {},
   "source": [
    "# 9- Train-Test split"
   ]
  },
  {
   "cell_type": "code",
   "execution_count": 504,
   "metadata": {},
   "outputs": [],
   "source": [
    "# setting up x and y, the .values make it a numpy array to put into tf\n",
    "\n",
    "x = df.drop('target', axis = 1)\n",
    "y = df['target']"
   ]
  },
  {
   "cell_type": "code",
   "execution_count": 505,
   "metadata": {},
   "outputs": [],
   "source": [
    "# split, first into train and test\n",
    "x_train, x_test, y_train, y_test = train_test_split(x, y, test_size = 0.1, random_state = 101)\n",
    "\n",
    "# then split the train one into test and valid, 0.1111 x 0.9 = 0.09999\n",
    "x_train, x_val, y_train, y_val = train_test_split(x_train, y_train, test_size = 0.11111111, random_state = 101)"
   ]
  },
  {
   "cell_type": "code",
   "execution_count": 506,
   "metadata": {},
   "outputs": [
    {
     "data": {
      "text/plain": [
       "((455, 15), (57, 15), (57, 15))"
      ]
     },
     "execution_count": 506,
     "metadata": {},
     "output_type": "execute_result"
    }
   ],
   "source": [
    "x_train.shape, x_val.shape, x_test.shape"
   ]
  },
  {
   "cell_type": "markdown",
   "metadata": {},
   "source": [
    "# 11- Modeling"
   ]
  },
  {
   "cell_type": "markdown",
   "metadata": {},
   "source": [
    "# <center> ANN"
   ]
  },
  {
   "cell_type": "code",
   "execution_count": 507,
   "metadata": {},
   "outputs": [],
   "source": [
    "# here, a good model produces very good results in terms of accuracy, precision, recall, and f_1, so we take it\n",
    "# too simple of a model so that its results are not that good, so we can see how things are affected in a fairly good model\n",
    "\n",
    "x = df.drop('target', axis = 1).values\n",
    "y = df['target'].values\n",
    "\n",
    "# split, first into train and test\n",
    "x_train, x_test, y_train, y_test = train_test_split(x, y, test_size = 0.1, random_state = 101)\n",
    "\n",
    "# then split the train one into test and valid\n",
    "x_train, x_val, y_train, y_val = train_test_split(x_train, y_train, test_size = 0.11111111, random_state = 101)\n",
    "\n",
    "## scaling must happen after test_train split to avoid data leakage\n",
    "\n",
    "scalar = StandardScaler()\n",
    "\n",
    "x_train = scalar.fit_transform(x_train)\n",
    "\n",
    "x_val = scalar.transform(x_val)\n",
    "\n",
    "x_test = scalar.transform(x_test)"
   ]
  },
  {
   "cell_type": "code",
   "execution_count": 508,
   "metadata": {},
   "outputs": [],
   "source": [
    "# making the layers\n",
    "\n",
    "model = Sequential()\n",
    "nnodes = 5\n",
    "act_func = 'relu'\n",
    "\n",
    "model.add(Dense(nnodes, activation = act_func))\n",
    "\n",
    "\n",
    "model.add(Dense(1, activation = 'sigmoid'))  # binary classification last layer should be sigmoid"
   ]
  },
  {
   "cell_type": "code",
   "execution_count": 509,
   "metadata": {},
   "outputs": [],
   "source": [
    "# compiling the model\n",
    "\n",
    "model.compile(optimizer = 'adam', loss = 'binary_crossentropy')"
   ]
  },
  {
   "cell_type": "code",
   "execution_count": 510,
   "metadata": {},
   "outputs": [
    {
     "name": "stdout",
     "output_type": "stream",
     "text": [
      "Train on 455 samples, validate on 57 samples\n",
      "Epoch 1/10\n",
      "455/455 - 0s - loss: 0.7461 - val_loss: 0.7620\n",
      "Epoch 2/10\n",
      "455/455 - 0s - loss: 0.6737 - val_loss: 0.6897\n",
      "Epoch 3/10\n",
      "455/455 - 0s - loss: 0.6184 - val_loss: 0.6340\n",
      "Epoch 4/10\n",
      "455/455 - 0s - loss: 0.5739 - val_loss: 0.5890\n",
      "Epoch 5/10\n",
      "455/455 - 0s - loss: 0.5366 - val_loss: 0.5530\n",
      "Epoch 6/10\n",
      "455/455 - 0s - loss: 0.5041 - val_loss: 0.5230\n",
      "Epoch 7/10\n",
      "455/455 - 0s - loss: 0.4783 - val_loss: 0.4968\n",
      "Epoch 8/10\n",
      "455/455 - 0s - loss: 0.4559 - val_loss: 0.4752\n",
      "Epoch 9/10\n",
      "455/455 - 0s - loss: 0.4356 - val_loss: 0.4545\n",
      "Epoch 10/10\n",
      "455/455 - 0s - loss: 0.4175 - val_loss: 0.4364\n"
     ]
    },
    {
     "data": {
      "text/plain": [
       "<tensorflow.python.keras.callbacks.History at 0x113a5acd0c8>"
      ]
     },
     "execution_count": 510,
     "metadata": {},
     "output_type": "execute_result"
    }
   ],
   "source": [
    "# fitting the model\n",
    "\n",
    "early_stop = EarlyStopping(monitor = 'val_loss', mode = 'min', patience = 25, verbose = 1)\n",
    "\n",
    "model.fit(x = x_train, y = y_train, validation_data = (x_val, y_val),\n",
    "          callbacks = [early_stop],\n",
    "          batch_size = 32,\n",
    "          epochs = 10, \n",
    "          verbose = 2)"
   ]
  },
  {
   "cell_type": "code",
   "execution_count": 511,
   "metadata": {},
   "outputs": [
    {
     "data": {
      "text/html": [
       "<div>\n",
       "<style scoped>\n",
       "    .dataframe tbody tr th:only-of-type {\n",
       "        vertical-align: middle;\n",
       "    }\n",
       "\n",
       "    .dataframe tbody tr th {\n",
       "        vertical-align: top;\n",
       "    }\n",
       "\n",
       "    .dataframe thead th {\n",
       "        text-align: right;\n",
       "    }\n",
       "</style>\n",
       "<table border=\"1\" class=\"dataframe\">\n",
       "  <thead>\n",
       "    <tr style=\"text-align: right;\">\n",
       "      <th></th>\n",
       "      <th>Model Loss</th>\n",
       "      <th>Validation Loss</th>\n",
       "    </tr>\n",
       "  </thead>\n",
       "  <tbody>\n",
       "    <tr>\n",
       "      <th>5</th>\n",
       "      <td>0.504097</td>\n",
       "      <td>0.522971</td>\n",
       "    </tr>\n",
       "    <tr>\n",
       "      <th>6</th>\n",
       "      <td>0.478308</td>\n",
       "      <td>0.496776</td>\n",
       "    </tr>\n",
       "    <tr>\n",
       "      <th>7</th>\n",
       "      <td>0.455942</td>\n",
       "      <td>0.475227</td>\n",
       "    </tr>\n",
       "    <tr>\n",
       "      <th>8</th>\n",
       "      <td>0.435589</td>\n",
       "      <td>0.454512</td>\n",
       "    </tr>\n",
       "    <tr>\n",
       "      <th>9</th>\n",
       "      <td>0.417532</td>\n",
       "      <td>0.436419</td>\n",
       "    </tr>\n",
       "  </tbody>\n",
       "</table>\n",
       "</div>"
      ],
      "text/plain": [
       "   Model Loss  Validation Loss\n",
       "5    0.504097         0.522971\n",
       "6    0.478308         0.496776\n",
       "7    0.455942         0.475227\n",
       "8    0.435589         0.454512\n",
       "9    0.417532         0.436419"
      ]
     },
     "execution_count": 511,
     "metadata": {},
     "output_type": "execute_result"
    }
   ],
   "source": [
    "loss_func = pd.DataFrame(data = model.history.history['loss'], columns = ['Model Loss'])\n",
    "loss_func['Validation Loss'] =  model.history.history['val_loss']\n",
    "loss_func.tail()"
   ]
  },
  {
   "cell_type": "code",
   "execution_count": 512,
   "metadata": {},
   "outputs": [
    {
     "data": {
      "text/plain": [
       "<matplotlib.axes._subplots.AxesSubplot at 0x113a5ffb248>"
      ]
     },
     "execution_count": 512,
     "metadata": {},
     "output_type": "execute_result"
    },
    {
     "data": {
      "image/png": "[encoded data removed]",
      "text/plain": [
       "<Figure size 1080x432 with 1 Axes>"
      ]
     },
     "metadata": {},
     "output_type": "display_data"
    }
   ],
   "source": [
    "loss_func.plot(figsize = (15,6))"
   ]
  },
  {
   "cell_type": "code",
   "execution_count": 515,
   "metadata": {},
   "outputs": [
    {
     "name": "stdout",
     "output_type": "stream",
     "text": [
      "threshold of: 0.000 gives accuracy, precision, recall, and f_1 of:     0.386, 0.386, 1.000, 0.557\n",
      "threshold of: 0.010 gives accuracy, precision, recall, and f_1 of:     0.386, 0.386, 1.000, 0.557\n",
      "threshold of: 0.020 gives accuracy, precision, recall, and f_1 of:     0.386, 0.386, 1.000, 0.557\n",
      "threshold of: 0.030 gives accuracy, precision, recall, and f_1 of:     0.386, 0.386, 1.000, 0.557\n",
      "threshold of: 0.040 gives accuracy, precision, recall, and f_1 of:     0.421, 0.400, 1.000, 0.571\n",
      "threshold of: 0.050 gives accuracy, precision, recall, and f_1 of:     0.474, 0.423, 1.000, 0.595\n",
      "threshold of: 0.060 gives accuracy, precision, recall, and f_1 of:     0.509, 0.440, 1.000, 0.611\n",
      "threshold of: 0.070 gives accuracy, precision, recall, and f_1 of:     0.509, 0.440, 1.000, 0.611\n",
      "threshold of: 0.080 gives accuracy, precision, recall, and f_1 of:     0.526, 0.449, 1.000, 0.620\n",
      "threshold of: 0.090 gives accuracy, precision, recall, and f_1 of:     0.544, 0.458, 1.000, 0.629\n",
      "threshold of: 0.100 gives accuracy, precision, recall, and f_1 of:     0.561, 0.468, 1.000, 0.638\n",
      "threshold of: 0.110 gives accuracy, precision, recall, and f_1 of:     0.579, 0.478, 1.000, 0.647\n",
      "threshold of: 0.120 gives accuracy, precision, recall, and f_1 of:     0.579, 0.478, 1.000, 0.647\n",
      "threshold of: 0.130 gives accuracy, precision, recall, and f_1 of:     0.596, 0.489, 1.000, 0.657\n",
      "threshold of: 0.140 gives accuracy, precision, recall, and f_1 of:     0.596, 0.489, 1.000, 0.657\n",
      "threshold of: 0.150 gives accuracy, precision, recall, and f_1 of:     0.614, 0.500, 1.000, 0.667\n",
      "threshold of: 0.160 gives accuracy, precision, recall, and f_1 of:     0.632, 0.512, 1.000, 0.677\n",
      "threshold of: 0.170 gives accuracy, precision, recall, and f_1 of:     0.632, 0.512, 1.000, 0.677\n",
      "threshold of: 0.180 gives accuracy, precision, recall, and f_1 of:     0.632, 0.512, 1.000, 0.677\n",
      "threshold of: 0.190 gives accuracy, precision, recall, and f_1 of:     0.649, 0.524, 1.000, 0.688\n",
      "threshold of: 0.200 gives accuracy, precision, recall, and f_1 of:     0.632, 0.512, 0.955, 0.667\n",
      "threshold of: 0.210 gives accuracy, precision, recall, and f_1 of:     0.649, 0.525, 0.955, 0.677\n",
      "threshold of: 0.220 gives accuracy, precision, recall, and f_1 of:     0.649, 0.525, 0.955, 0.677\n",
      "threshold of: 0.230 gives accuracy, precision, recall, and f_1 of:     0.649, 0.525, 0.955, 0.677\n",
      "threshold of: 0.240 gives accuracy, precision, recall, and f_1 of:     0.649, 0.525, 0.955, 0.677\n",
      "threshold of: 0.250 gives accuracy, precision, recall, and f_1 of:     0.649, 0.525, 0.955, 0.677\n",
      "threshold of: 0.260 gives accuracy, precision, recall, and f_1 of:     0.632, 0.513, 0.909, 0.656\n",
      "threshold of: 0.270 gives accuracy, precision, recall, and f_1 of:     0.632, 0.513, 0.909, 0.656\n",
      "threshold of: 0.280 gives accuracy, precision, recall, and f_1 of:     0.632, 0.513, 0.909, 0.656\n",
      "threshold of: 0.290 gives accuracy, precision, recall, and f_1 of:     0.632, 0.513, 0.909, 0.656\n",
      "threshold of: 0.300 gives accuracy, precision, recall, and f_1 of:     0.632, 0.513, 0.909, 0.656\n",
      "threshold of: 0.310 gives accuracy, precision, recall, and f_1 of:     0.667, 0.541, 0.909, 0.678\n",
      "threshold of: 0.320 gives accuracy, precision, recall, and f_1 of:     0.649, 0.528, 0.864, 0.655\n",
      "threshold of: 0.330 gives accuracy, precision, recall, and f_1 of:     0.649, 0.528, 0.864, 0.655\n",
      "threshold of: 0.340 gives accuracy, precision, recall, and f_1 of:     0.632, 0.514, 0.818, 0.632\n",
      "threshold of: 0.350 gives accuracy, precision, recall, and f_1 of:     0.632, 0.514, 0.818, 0.632\n",
      "threshold of: 0.360 gives accuracy, precision, recall, and f_1 of:     0.632, 0.514, 0.818, 0.632\n",
      "threshold of: 0.370 gives accuracy, precision, recall, and f_1 of:     0.632, 0.514, 0.818, 0.632\n",
      "threshold of: 0.380 gives accuracy, precision, recall, and f_1 of:     0.649, 0.529, 0.818, 0.643\n",
      "threshold of: 0.390 gives accuracy, precision, recall, and f_1 of:     0.649, 0.529, 0.818, 0.643\n",
      "threshold of: 0.400 gives accuracy, precision, recall, and f_1 of:     0.649, 0.529, 0.818, 0.643\n",
      "threshold of: 0.410 gives accuracy, precision, recall, and f_1 of:     0.667, 0.545, 0.818, 0.655\n",
      "threshold of: 0.420 gives accuracy, precision, recall, and f_1 of:     0.684, 0.562, 0.818, 0.667\n",
      "threshold of: 0.430 gives accuracy, precision, recall, and f_1 of:     0.719, 0.600, 0.818, 0.692\n",
      "threshold of: 0.440 gives accuracy, precision, recall, and f_1 of:     0.754, 0.643, 0.818, 0.720\n",
      "threshold of: 0.450 gives accuracy, precision, recall, and f_1 of:     0.754, 0.654, 0.773, 0.708\n",
      "threshold of: 0.460 gives accuracy, precision, recall, and f_1 of:     0.772, 0.680, 0.773, 0.723\n",
      "threshold of: 0.470 gives accuracy, precision, recall, and f_1 of:     0.789, 0.727, 0.727, 0.727\n",
      "threshold of: 0.480 gives accuracy, precision, recall, and f_1 of:     0.789, 0.750, 0.682, 0.714\n",
      "threshold of: 0.490 gives accuracy, precision, recall, and f_1 of:     0.825, 0.833, 0.682, 0.750\n",
      "threshold of: 0.500 gives accuracy, precision, recall, and f_1 of:     0.825, 0.833, 0.682, 0.750\n",
      "threshold of: 0.510 gives accuracy, precision, recall, and f_1 of:     0.842, 0.882, 0.682, 0.769\n",
      "threshold of: 0.520 gives accuracy, precision, recall, and f_1 of:     0.842, 0.882, 0.682, 0.769\n",
      "threshold of: 0.530 gives accuracy, precision, recall, and f_1 of:     0.842, 0.882, 0.682, 0.769\n",
      "threshold of: 0.540 gives accuracy, precision, recall, and f_1 of:     0.842, 0.882, 0.682, 0.769\n",
      "threshold of: 0.550 gives accuracy, precision, recall, and f_1 of:     0.825, 0.875, 0.636, 0.737\n",
      "threshold of: 0.560 gives accuracy, precision, recall, and f_1 of:     0.825, 0.875, 0.636, 0.737\n",
      "threshold of: 0.570 gives accuracy, precision, recall, and f_1 of:     0.825, 0.875, 0.636, 0.737\n",
      "threshold of: 0.580 gives accuracy, precision, recall, and f_1 of:     0.825, 0.875, 0.636, 0.737\n",
      "threshold of: 0.590 gives accuracy, precision, recall, and f_1 of:     0.807, 0.867, 0.591, 0.703\n",
      "threshold of: 0.600 gives accuracy, precision, recall, and f_1 of:     0.825, 0.929, 0.591, 0.722\n",
      "threshold of: 0.610 gives accuracy, precision, recall, and f_1 of:     0.825, 0.929, 0.591, 0.722\n",
      "threshold of: 0.620 gives accuracy, precision, recall, and f_1 of:     0.825, 0.929, 0.591, 0.722\n",
      "threshold of: 0.630 gives accuracy, precision, recall, and f_1 of:     0.825, 0.929, 0.591, 0.722\n",
      "threshold of: 0.640 gives accuracy, precision, recall, and f_1 of:     0.825, 0.929, 0.591, 0.722\n",
      "threshold of: 0.650 gives accuracy, precision, recall, and f_1 of:     0.807, 0.923, 0.545, 0.686\n",
      "threshold of: 0.660 gives accuracy, precision, recall, and f_1 of:     0.807, 0.923, 0.545, 0.686\n",
      "threshold of: 0.670 gives accuracy, precision, recall, and f_1 of:     0.772, 0.909, 0.455, 0.606\n",
      "threshold of: 0.680 gives accuracy, precision, recall, and f_1 of:     0.772, 0.909, 0.455, 0.606\n",
      "threshold of: 0.690 gives accuracy, precision, recall, and f_1 of:     0.754, 0.900, 0.409, 0.563\n",
      "threshold of: 0.700 gives accuracy, precision, recall, and f_1 of:     0.754, 0.900, 0.409, 0.563\n",
      "threshold of: 0.710 gives accuracy, precision, recall, and f_1 of:     0.754, 0.900, 0.409, 0.563\n",
      "threshold of: 0.720 gives accuracy, precision, recall, and f_1 of:     0.754, 1.000, 0.364, 0.533\n",
      "threshold of: 0.730 gives accuracy, precision, recall, and f_1 of:     0.754, 1.000, 0.364, 0.533\n",
      "threshold of: 0.740 gives accuracy, precision, recall, and f_1 of:     0.754, 1.000, 0.364, 0.533\n",
      "threshold of: 0.750 gives accuracy, precision, recall, and f_1 of:     0.754, 1.000, 0.364, 0.533\n",
      "threshold of: 0.760 gives accuracy, precision, recall, and f_1 of:     0.737, 1.000, 0.318, 0.483\n",
      "threshold of: 0.770 gives accuracy, precision, recall, and f_1 of:     0.737, 1.000, 0.318, 0.483\n",
      "threshold of: 0.780 gives accuracy, precision, recall, and f_1 of:     0.737, 1.000, 0.318, 0.483\n",
      "threshold of: 0.790 gives accuracy, precision, recall, and f_1 of:     0.737, 1.000, 0.318, 0.483\n",
      "threshold of: 0.800 gives accuracy, precision, recall, and f_1 of:     0.737, 1.000, 0.318, 0.483\n",
      "threshold of: 0.810 gives accuracy, precision, recall, and f_1 of:     0.719, 1.000, 0.273, 0.429\n",
      "threshold of: 0.820 gives accuracy, precision, recall, and f_1 of:     0.719, 1.000, 0.273, 0.429\n"
     ]
    },
    {
     "name": "stdout",
     "output_type": "stream",
     "text": [
      "threshold of: 0.830 gives accuracy, precision, recall, and f_1 of:     0.719, 1.000, 0.273, 0.429\n",
      "threshold of: 0.840 gives accuracy, precision, recall, and f_1 of:     0.719, 1.000, 0.273, 0.429\n",
      "threshold of: 0.850 gives accuracy, precision, recall, and f_1 of:     0.702, 1.000, 0.227, 0.370\n",
      "threshold of: 0.860 gives accuracy, precision, recall, and f_1 of:     0.684, 1.000, 0.182, 0.308\n",
      "threshold of: 0.870 gives accuracy, precision, recall, and f_1 of:     0.684, 1.000, 0.182, 0.308\n",
      "threshold of: 0.880 gives accuracy, precision, recall, and f_1 of:     0.684, 1.000, 0.182, 0.308\n",
      "threshold of: 0.890 gives accuracy, precision, recall, and f_1 of:     0.684, 1.000, 0.182, 0.308\n",
      "threshold of: 0.900 gives accuracy, precision, recall, and f_1 of:     0.649, 1.000, 0.091, 0.167\n",
      "threshold of: 0.910 gives accuracy, precision, recall, and f_1 of:     0.649, 1.000, 0.091, 0.167\n",
      "threshold of: 0.920 gives accuracy, precision, recall, and f_1 of:     0.649, 1.000, 0.091, 0.167\n",
      "threshold of: 0.930 gives accuracy, precision, recall, and f_1 of:     0.649, 1.000, 0.091, 0.167\n",
      "threshold of: 0.940 gives accuracy, precision, recall, and f_1 of:     0.649, 1.000, 0.091, 0.167\n",
      "threshold of: 0.950 gives accuracy, precision, recall, and f_1 of:     0.649, 1.000, 0.091, 0.167\n",
      "threshold of: 0.960 gives accuracy, precision, recall, and f_1 of:     0.632, 1.000, 0.045, 0.087\n",
      "threshold of: 0.970 gives accuracy, precision, recall, and f_1 of:     0.614, 0.000, 0.000, 0.000\n",
      "threshold of: 0.980 gives accuracy, precision, recall, and f_1 of:     0.614, 0.000, 0.000, 0.000\n",
      "threshold of: 0.990 gives accuracy, precision, recall, and f_1 of:     0.614, 0.000, 0.000, 0.000\n",
      "threshold of: 1.000 gives accuracy, precision, recall, and f_1 of:     0.614, 0.000, 0.000, 0.000\n",
      "\n",
      "\n",
      "best threshold for model accuracy is:  0.51 and accuracy equal to:  0.8421052631578947\n",
      "best threshold for model precision is:  0.72 and precision equal to:  1.0\n",
      "best threshold for model recall is:  0.0 and recall equal to:  1.0\n",
      "best threshold for model f_1 is:  0.51 and f_1 equal to:  0.7692307692307693\n"
     ]
    }
   ],
   "source": [
    "# see what thresold make it a better model in terms of accuracy, precision, recall, or f_1\n",
    "\n",
    "y_test = y_test.reshape(-1,1)\n",
    "what_start_accuracy = 0.0\n",
    "what_start_precision = 0.0\n",
    "what_start_recall = 0.0\n",
    "what_start_f_1 = 0.0\n",
    "\n",
    "\n",
    "for threshold in np.arange(0, 1.01, 0.01):\n",
    "\n",
    "    real_preds = model.predict(x_test)\n",
    "\n",
    "    for i in range(0, len(real_preds)):\n",
    "        if real_preds[i] < threshold:\n",
    "            real_preds[i] = 0\n",
    "        else:\n",
    "            real_preds[i] = 1\n",
    "            \n",
    "    rep = classification_report(y_test, real_preds, output_dict=True)\n",
    "    class_1_accuracy = rep['accuracy']\n",
    "    class_1_precision = rep['1']['precision']\n",
    "    class_1_recall = rep['1']['recall']\n",
    "    class_1_f_1 = rep['1']['f1-score']\n",
    "    \n",
    "    print(f'threshold of: {threshold:.3f} gives accuracy, precision, recall, and f_1 of: \\\n",
    "    {class_1_accuracy:.3f}, {class_1_precision:.3f}, {class_1_recall:.3f}, {class_1_f_1:.3f}' )\n",
    "\n",
    "    if class_1_accuracy > what_start_accuracy:\n",
    "        what_start_accuracy = class_1_accuracy\n",
    "        best_threshold_accuracy = threshold\n",
    "    if class_1_precision > what_start_precision:\n",
    "        what_start_precision = class_1_precision\n",
    "        best_threshold_precision = threshold\n",
    "    if class_1_recall > what_start_recall:\n",
    "        what_start_recall = class_1_recall\n",
    "        best_threshold_recall = threshold\n",
    "    if class_1_f_1 > what_start_f_1:\n",
    "        what_start_f_1 = class_1_f_1\n",
    "        best_threshold_f_1 = threshold\n",
    "        \n",
    "\n",
    "print('')\n",
    "print('')\n",
    "print('best threshold for model accuracy is: ', best_threshold_accuracy, 'and accuracy equal to: ', what_start_accuracy)\n",
    "print('best threshold for model precision is: ', best_threshold_precision, 'and precision equal to: ', what_start_precision)\n",
    "print('best threshold for model recall is: ', best_threshold_recall, 'and recall equal to: ', what_start_recall)\n",
    "print('best threshold for model f_1 is: ', best_threshold_f_1, 'and f_1 equal to: ', what_start_f_1)"
   ]
  },
  {
   "cell_type": "code",
   "execution_count": 516,
   "metadata": {},
   "outputs": [
    {
     "data": {
      "text/html": [
       "<div>\n",
       "<style scoped>\n",
       "    .dataframe tbody tr th:only-of-type {\n",
       "        vertical-align: middle;\n",
       "    }\n",
       "\n",
       "    .dataframe tbody tr th {\n",
       "        vertical-align: top;\n",
       "    }\n",
       "\n",
       "    .dataframe thead th {\n",
       "        text-align: right;\n",
       "    }\n",
       "</style>\n",
       "<table border=\"1\" class=\"dataframe\">\n",
       "  <thead>\n",
       "    <tr style=\"text-align: right;\">\n",
       "      <th></th>\n",
       "      <th>Predicted Values</th>\n",
       "      <th>Real Values</th>\n",
       "    </tr>\n",
       "  </thead>\n",
       "  <tbody>\n",
       "    <tr>\n",
       "      <th>0</th>\n",
       "      <td>0.0</td>\n",
       "      <td>0</td>\n",
       "    </tr>\n",
       "    <tr>\n",
       "      <th>1</th>\n",
       "      <td>0.0</td>\n",
       "      <td>0</td>\n",
       "    </tr>\n",
       "    <tr>\n",
       "      <th>2</th>\n",
       "      <td>0.0</td>\n",
       "      <td>0</td>\n",
       "    </tr>\n",
       "    <tr>\n",
       "      <th>3</th>\n",
       "      <td>1.0</td>\n",
       "      <td>1</td>\n",
       "    </tr>\n",
       "    <tr>\n",
       "      <th>4</th>\n",
       "      <td>0.0</td>\n",
       "      <td>0</td>\n",
       "    </tr>\n",
       "  </tbody>\n",
       "</table>\n",
       "</div>"
      ],
      "text/plain": [
       "   Predicted Values  Real Values\n",
       "0               0.0            0\n",
       "1               0.0            0\n",
       "2               0.0            0\n",
       "3               1.0            1\n",
       "4               0.0            0"
      ]
     },
     "execution_count": 516,
     "metadata": {},
     "output_type": "execute_result"
    }
   ],
   "source": [
    "# lets choose best f_1 score threshold\n",
    "\n",
    "real_preds = model.predict(x_test)\n",
    "\n",
    "for i in range(0, len(real_preds)):\n",
    "    if real_preds[i] < 0.4:\n",
    "        real_preds[i] = 0\n",
    "    else:\n",
    "        real_preds[i] = 1\n",
    "        \n",
    "\n",
    "predictions = pd.DataFrame(data = real_preds, columns = ['Predicted Values'])\n",
    "predictions['Real Values'] = y_test\n",
    "predictions.head()"
   ]
  },
  {
   "cell_type": "code",
   "execution_count": 517,
   "metadata": {},
   "outputs": [
    {
     "data": {
      "text/plain": [
       "<matplotlib.axes._subplots.AxesSubplot at 0x113a6055048>"
      ]
     },
     "execution_count": 517,
     "metadata": {},
     "output_type": "execute_result"
    },
    {
     "data": {
      "image/png": "[encoded data removed]",
      "text/plain": [
       "<Figure size 432x288 with 1 Axes>"
      ]
     },
     "metadata": {},
     "output_type": "display_data"
    }
   ],
   "source": [
    "# residual making\n",
    "\n",
    "predictions['Residual'] = predictions['Real Values'] - predictions['Predicted Values']\n",
    "sns.countplot(predictions['Residual'])"
   ]
  },
  {
   "cell_type": "code",
   "execution_count": 518,
   "metadata": {},
   "outputs": [
    {
     "name": "stdout",
     "output_type": "stream",
     "text": [
      "              precision    recall  f1-score   support\n",
      "\n",
      "           0       0.83      0.54      0.66        35\n",
      "           1       0.53      0.82      0.64        22\n",
      "\n",
      "    accuracy                           0.65        57\n",
      "   macro avg       0.68      0.68      0.65        57\n",
      "weighted avg       0.71      0.65      0.65        57\n",
      "\n"
     ]
    }
   ],
   "source": [
    "print(classification_report(y_test, real_preds))"
   ]
  },
  {
   "cell_type": "code",
   "execution_count": 519,
   "metadata": {},
   "outputs": [
    {
     "data": {
      "image/png": "[encoded data removed]",
      "text/plain": [
       "<Figure size 720x432 with 2 Axes>"
      ]
     },
     "metadata": {},
     "output_type": "display_data"
    }
   ],
   "source": [
    "my_cm = confusion_matrix(y_test, predictions['Predicted Values'])\n",
    "plt.figure(figsize = (10,6))\n",
    "sns.heatmap(my_cm, annot = True);\n",
    "plt.xlabel('Predicted Values');\n",
    "plt.ylabel('Real Values');"
   ]
  },
  {
   "cell_type": "code",
   "execution_count": 520,
   "metadata": {},
   "outputs": [
    {
     "name": "stdout",
     "output_type": "stream",
     "text": [
      "Model Accuracy is :   64.91%\n",
      "Model Precision is:   52.94%\n",
      "Model Recall i   s:   81.82%\n",
      "Model F_1_Score is:   64.29%\n"
     ]
    }
   ],
   "source": [
    "cr = classification_report(y_test, predictions['Predicted Values'], output_dict=True)\n",
    "class_1_accuracy = 100 * cr['accuracy']\n",
    "class_1_precision = 100 * cr['1']['precision']\n",
    "class_1_recall = 100 * cr['1']['recall']\n",
    "class_1_f_1 = 100 * cr['1']['f1-score']\n",
    "\n",
    "print(f'Model Accuracy is :   {class_1_accuracy:.2f}%')\n",
    "print(f'Model Precision is:   {class_1_precision:.2f}%')\n",
    "print(f'Model Recall i   s:   {class_1_recall:.2f}%')\n",
    "print(f'Model F_1_Score is:   {class_1_f_1:.2f}%')"
   ]
  },
  {
   "cell_type": "code",
   "execution_count": null,
   "metadata": {},
   "outputs": [],
   "source": []
  },
  {
   "cell_type": "code",
   "execution_count": null,
   "metadata": {},
   "outputs": [],
   "source": []
  }
 ],
 "metadata": {
  "kernelspec": {
   "display_name": "Python 3",
   "language": "python",
   "name": "python3"
  },
  "language_info": {
   "codemirror_mode": {
    "name": "ipython",
    "version": 3
   },
   "file_extension": ".py",
   "mimetype": "text/x-python",
   "name": "python",
   "nbconvert_exporter": "python",
   "pygments_lexer": "ipython3",
   "version": "3.7.4"
  }
 },
 "nbformat": 4,
 "nbformat_minor": 2
}
